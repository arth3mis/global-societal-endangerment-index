{
 "cells": [
  {
   "metadata": {},
   "cell_type": "markdown",
   "source": [
    "# Global Societal Endangerment Index (GSEI)\n",
    "\n",
    "Development notebook for step 2: Data Selection"
   ],
   "id": "456510fa1671bc52"
  },
  {
   "metadata": {
    "ExecuteTime": {
     "end_time": "2025-03-22T15:40:18.598046Z",
     "start_time": "2025-03-22T15:40:18.595099Z"
    }
   },
   "cell_type": "code",
   "source": [
    "import pandas as pd\n",
    "import numpy as np\n",
    "import json\n",
    "\n",
    "# my custom scripts\n",
    "import country_standardisation as my_cs"
   ],
   "id": "6a9dd3e799489eb9",
   "outputs": [],
   "execution_count": 2
  },
  {
   "metadata": {},
   "cell_type": "markdown",
   "source": [
    "## Data Loading and Preprocessing\n",
    "Bring datasets into the right format and perform initial transformations to form the base indicators.\n",
    "\n",
    "Total indicator count to load: 9 + 7 + 8 + 11 + 7 = 42"
   ],
   "id": "ad82ef29a7130f4c"
  },
  {
   "metadata": {
    "ExecuteTime": {
     "end_time": "2025-03-22T15:40:18.700229Z",
     "start_time": "2025-03-22T15:40:18.693233Z"
    }
   },
   "cell_type": "code",
   "source": [
    "\"\"\"\n",
    "Preprocessing for specific sources\n",
    "\"\"\"\n",
    "\n",
    "def transpose_world_bank_data(wb_df, year_range):\n",
    "    \"\"\"\n",
    "    Transpose World Bank data from long to wide format.\n",
    "    \"\"\"\n",
    "    # clean up rows\n",
    "    # drop ANT, CHI, XKX because mapping them to another country would produce duplicate country rows that are very complicated to merge\n",
    "    # drop all other codes that are not countries\n",
    "    codes_to_remove = ['ANT','CHI','XKX',\n",
    "    'AFE','AFW','ARB','CSS','CEB','EAR','EAS','EAP','TEA','EMU','ECS','ECA','TEC','EUU','FCS','HPC','HIC','IBD','IBT','IDB','IDX','IDA','LTE','LCN','LAC','TLA','LDC','LMY','LIC','LMC','MEA','MNA','TMN','MIC','NAC','INX','OED','OSS','PSS','PST','PRE','SST','SAS','TSA','SSF','SSA','TSS','UMC','WLD',  'FTI','LNX']\n",
    "    wb_df = wb_df[~wb_df['Country Code'].isin(codes_to_remove)]\n",
    "    wb_df = wb_df[~wb_df['Country Name'].str.contains(\"Data from\", na=False)]\n",
    "    wb_df = wb_df[~wb_df['Country Name'].str.contains(\"Last Updated\", na=False)]\n",
    "    wb_df = wb_df.dropna(how='all', axis=0)  # drop completely empty rows\n",
    "    wb_df = wb_df.replace('..', np.nan)  # replace missing values with NaN\n",
    "    # clean up columns\n",
    "    wb_df['Country Name'] = my_cs.standardise_countries(wb_df['Country Code'], fuzzy_threshold=100)\n",
    "    wb_df = wb_df.drop(columns=['Country Code', 'Series Code'])\n",
    "    wb_df.columns = [col.split(\" [\")[0] if \"[YR\" in col else col for col in wb_df.columns]\n",
    "    # pivot to wide format\n",
    "    wb_df = wb_df.pivot(index='Country Name', columns='Series Name', values=[str(year) for year in year_range])\n",
    "    wb_df.columns = ['_'.join(col).strip() for col in wb_df.columns.values]\n",
    "    wb_df = wb_df.reset_index()\n",
    "    # convert to numeric\n",
    "    num_cols = wb_df.drop('Country Name', axis=1).apply(pd.to_numeric, errors='coerce')\n",
    "    wb_df = pd.concat([wb_df['Country Name'], num_cols], axis=1)\n",
    "    return wb_df\n",
    "\n",
    "def transpose_who_data(who_df, year_range):\n",
    "    \"\"\"\n",
    "    Transpose WHO data from long to wide format.\n",
    "    \"\"\"\n",
    "    # clean up rows\n",
    "    who_df['Countries'] = who_df['Countries'].replace(\"occupied Palestinian territory, including east Jerusalem\", \"Palestine, State of\")\n",
    "    # clean up columns\n",
    "    who_df['Countries'] = my_cs.standardise_countries(who_df['Countries'], fuzzy_threshold=80)\n",
    "    # pivot to wide format\n",
    "    who_df = who_df.pivot(index='Countries', columns='Indicators', values=[str(year) for year in year_range])\n",
    "    who_df.columns = ['_'.join(col).strip() for col in who_df.columns.values]\n",
    "    who_df = who_df.reset_index()\n",
    "    # convert to numeric\n",
    "    num_cols = who_df.drop('Countries', axis=1).apply(pd.to_numeric, errors='coerce')\n",
    "    who_df = pd.concat([who_df['Countries'], num_cols], axis=1)\n",
    "    return who_df\n",
    "\n",
    "def indicator_yearly_availability(processed_df):\n",
    "    \"\"\"\n",
    "    Calculate the availability of data for each indicator and year.\n",
    "    \"\"\"\n",
    "    indicators = processed_df.columns[1:]\n",
    "    availability = processed_df[indicators].notnull().mean()\n",
    "    # reshape to DataFrame\n",
    "    availability_df = availability.to_frame(name='value').reset_index()\n",
    "    availability_df.rename(columns={'index': 'indicator'}, inplace=True)\n",
    "    # split indicator column\n",
    "    availability_df[['year', 'indicatorName']] = availability_df['indicator'].str.split('_', n=1, expand=True)\n",
    "    availability_df.drop('indicator', axis=1, inplace=True)\n",
    "    # pivot to desired format\n",
    "    return availability_df.pivot(index='indicatorName', columns='year', values='value').reset_index()"
   ],
   "id": "4644842120a4fd50",
   "outputs": [],
   "execution_count": 3
  },
  {
   "metadata": {
    "ExecuteTime": {
     "end_time": "2025-03-22T15:40:18.713418Z",
     "start_time": "2025-03-22T15:40:18.700971Z"
    }
   },
   "cell_type": "code",
   "source": [
    "def merge(out_df, in_df, indicator_cols):\n",
    "    \"\"\"\n",
    "    Merge indicator columns from in_df to out_df.\n",
    "    \"\"\"\n",
    "    if indicator_cols[0] in out_df.columns:\n",
    "        out_df = out_df.drop(columns=indicator_cols)\n",
    "    out_df =  out_df.merge(in_df[['Country'] + indicator_cols], on='Country', how='left')\n",
    "    \n",
    "    print(out_df.columns.values)\n",
    "    return out_df"
   ],
   "id": "ae07e4c8ff1015c0",
   "outputs": [],
   "execution_count": 4
  },
  {
   "metadata": {},
   "cell_type": "markdown",
   "source": "### Environmental Risks\n",
   "id": "fc2ffae8384014e"
  },
  {
   "metadata": {
    "ExecuteTime": {
     "end_time": "2025-03-22T15:40:18.735710Z",
     "start_time": "2025-03-22T15:40:18.714255Z"
    }
   },
   "cell_type": "code",
   "source": [
    "# start with comprehensive country list\n",
    "env_data = pd.DataFrame(my_cs.all_countries(), columns=['Country'])\n",
    "\n",
    "env_data.head(10)"
   ],
   "id": "ded5646b7504e8a3",
   "outputs": [
    {
     "data": {
      "text/plain": [
       "                Country\n",
       "0                 Aruba\n",
       "1           Afghanistan\n",
       "2                Angola\n",
       "3              Anguilla\n",
       "4         Åland Islands\n",
       "5               Albania\n",
       "6               Andorra\n",
       "7  United Arab Emirates\n",
       "8             Argentina\n",
       "9               Armenia"
      ],
      "text/html": [
       "<div>\n",
       "<style scoped>\n",
       "    .dataframe tbody tr th:only-of-type {\n",
       "        vertical-align: middle;\n",
       "    }\n",
       "\n",
       "    .dataframe tbody tr th {\n",
       "        vertical-align: top;\n",
       "    }\n",
       "\n",
       "    .dataframe thead th {\n",
       "        text-align: right;\n",
       "    }\n",
       "</style>\n",
       "<table border=\"1\" class=\"dataframe\">\n",
       "  <thead>\n",
       "    <tr style=\"text-align: right;\">\n",
       "      <th></th>\n",
       "      <th>Country</th>\n",
       "    </tr>\n",
       "  </thead>\n",
       "  <tbody>\n",
       "    <tr>\n",
       "      <th>0</th>\n",
       "      <td>Aruba</td>\n",
       "    </tr>\n",
       "    <tr>\n",
       "      <th>1</th>\n",
       "      <td>Afghanistan</td>\n",
       "    </tr>\n",
       "    <tr>\n",
       "      <th>2</th>\n",
       "      <td>Angola</td>\n",
       "    </tr>\n",
       "    <tr>\n",
       "      <th>3</th>\n",
       "      <td>Anguilla</td>\n",
       "    </tr>\n",
       "    <tr>\n",
       "      <th>4</th>\n",
       "      <td>Åland Islands</td>\n",
       "    </tr>\n",
       "    <tr>\n",
       "      <th>5</th>\n",
       "      <td>Albania</td>\n",
       "    </tr>\n",
       "    <tr>\n",
       "      <th>6</th>\n",
       "      <td>Andorra</td>\n",
       "    </tr>\n",
       "    <tr>\n",
       "      <th>7</th>\n",
       "      <td>United Arab Emirates</td>\n",
       "    </tr>\n",
       "    <tr>\n",
       "      <th>8</th>\n",
       "      <td>Argentina</td>\n",
       "    </tr>\n",
       "    <tr>\n",
       "      <th>9</th>\n",
       "      <td>Armenia</td>\n",
       "    </tr>\n",
       "  </tbody>\n",
       "</table>\n",
       "</div>"
      ]
     },
     "execution_count": 5,
     "metadata": {},
     "output_type": "execute_result"
    }
   ],
   "execution_count": 5
  },
  {
   "metadata": {
    "ExecuteTime": {
     "end_time": "2025-03-22T15:40:18.752293Z",
     "start_time": "2025-03-22T15:40:18.736318Z"
    }
   },
   "cell_type": "code",
   "source": [
    "# Climate Change Vulnerability\n",
    "\n",
    "# INDICATOR: Maximum relative temperature change (°C) in the last 10 years, compared to a 1951-1980 baseline\n",
    "\n",
    "temp_change = pd.read_csv(\"data/UN_FAO_climate_change_indicators.csv\")\n",
    "# drop row with Country 'world' in temp_change\n",
    "temp_change = temp_change[temp_change['Country'] != 'World']\n",
    "# standardise country names\n",
    "temp_change['Country'] = my_cs.standardise_countries(temp_change['ISO3'])\n",
    "# calculate maximum value between F2012 and F2022\n",
    "indicator_cols = ['Temp Change max 2012-2022']\n",
    "temp_change[indicator_cols[0]] = temp_change[['F2012', 'F2013', 'F2014', 'F2015', 'F2016', 'F2017', 'F2018', 'F2019', 'F2020', 'F2021', 'F2022']].max(axis=1)\n",
    "# merge\n",
    "env_data = merge(env_data, temp_change[['Country'] + indicator_cols], indicator_cols)"
   ],
   "id": "5a93d876ed775a78",
   "outputs": [
    {
     "name": "stdout",
     "output_type": "stream",
     "text": [
      "['Country' 'Temp Change max 2012-2022']\n"
     ]
    }
   ],
   "execution_count": 6
  },
  {
   "metadata": {
    "ExecuteTime": {
     "end_time": "2025-03-22T15:40:19.583800Z",
     "start_time": "2025-03-22T15:40:18.753389Z"
    }
   },
   "cell_type": "code",
   "source": [
    "# Exposure to Natural Disasters (earthquakes, floods, hurricanes)\n",
    "\n",
    "disasters = pd.read_excel(\"data/EM-DAT_natural_disasters_ALL_2020-2025.xlsx\")\n",
    "# standardise country names\n",
    "disasters['Country'] = my_cs.standardise_countries(disasters['ISO'])\n",
    "# group by country, summing up INDICATORS: affected people + total damage\n",
    "disasters_grouped = disasters.groupby('Country')[['No. Affected', 'Total Damage, Adjusted (\\'000 US$)']].sum().reset_index()\n",
    "disasters_grouped['Total Damage, Adjusted (\\'000 US$)'] = disasters_grouped['Total Damage, Adjusted (\\'000 US$)'] * 1000\n",
    "# rename columns\n",
    "indicator_cols = ['Disaster Affected Population 2020-2025', 'Disaster Damage US$T 2020-2025']\n",
    "disasters_grouped.columns = ['Country'] + indicator_cols\n",
    "# merge\n",
    "env_data = merge(env_data, disasters_grouped, indicator_cols)"
   ],
   "id": "c2a1c5b85d3db5f3",
   "outputs": [
    {
     "name": "stdout",
     "output_type": "stream",
     "text": [
      "Using special case for 'SPI' -> 'Spain'\n",
      "Using special case for 'SPI' -> 'Spain'\n",
      "['Country' 'Temp Change max 2012-2022'\n",
      " 'Disaster Affected Population 2020-2025' 'Disaster Damage US$T 2020-2025']\n"
     ]
    }
   ],
   "execution_count": 7
  },
  {
   "metadata": {
    "ExecuteTime": {
     "end_time": "2025-03-22T15:40:19.620962Z",
     "start_time": "2025-03-22T15:40:19.584705Z"
    }
   },
   "cell_type": "code",
   "source": [
    "# Air and Water Pollution Levels\n",
    "\n",
    "# INDICATORS:\n",
    "# Years of lost life due to unsafe water, sanitation, and handwashing\n",
    "# Years of lost life due to air pollution\n",
    "\n",
    "air_water = pd.read_csv(\"data/IHME_GBD_environmental_risk_export_2021.csv\")\n",
    "# standardise country names\n",
    "air_water['Location'] = my_cs.standardise_countries(air_water['Location'], fuzzy_threshold=79)\n",
    "# rename columns\n",
    "indicator_cols = ['Unsafe water, sanitation (YLL)', 'Air pollution (YLL)']\n",
    "air_water.columns = ['Country'] + indicator_cols\n",
    "# merge\n",
    "env_data = merge(env_data, air_water, indicator_cols)"
   ],
   "id": "8428366f474e375d",
   "outputs": [
    {
     "name": "stdout",
     "output_type": "stream",
     "text": [
      "Using fuzzy match for 'Cape Verde' -> 'Cabo Verde'\n",
      "Using fuzzy match for 'Cote d'Ivoire' -> 'Côte d'Ivoire'\n",
      "Using special case for 'Democratic Republic of Congo' -> 'Congo, Democratic Republic of the'\n",
      "Using fuzzy match for 'Iran (Islamic Republic of)' -> 'Iran, Islamic Republic of'\n",
      "Using fuzzy match for 'Libyan Arab Jamahiriya' -> 'Libya'\n",
      "Using fuzzy match for 'Republic of Congo' -> 'Congo'\n",
      "Using fuzzy match for 'Republic of Korea' -> 'Korea, Republic of'\n",
      "Using special case for 'Turkey' -> 'Türkiye'\n",
      "['Country' 'Temp Change max 2012-2022'\n",
      " 'Disaster Affected Population 2020-2025' 'Disaster Damage US$T 2020-2025'\n",
      " 'Unsafe water, sanitation (YLL)' 'Air pollution (YLL)']\n"
     ]
    }
   ],
   "execution_count": 8
  },
  {
   "metadata": {
    "ExecuteTime": {
     "end_time": "2025-03-22T15:40:19.658398Z",
     "start_time": "2025-03-22T15:40:19.621779Z"
    }
   },
   "cell_type": "code",
   "source": [
    "wb_dev2 = pd.read_csv(\"data/Worldbank_development_2.csv\")\n",
    "wb_dev2 = transpose_world_bank_data(wb_dev2, range(2014, 2024))\n",
    "\n",
    "# check availability of data for each indicator over the years\n",
    "indicator_yearly_availability(wb_dev2)"
   ],
   "id": "a7a30ee27cdd0984",
   "outputs": [
    {
     "data": {
      "text/plain": [
       "year                                      indicatorName      2014      2015  \\\n",
       "0               Access to electricity (% of population)  0.995349  0.995349   \n",
       "1        External debt stocks, total (DOD, current US$)  0.544186  0.553488   \n",
       "2      Individuals using the Internet (% of population)  0.934884  0.930233   \n",
       "3                 Inflation, consumer prices (annual %)  0.874419  0.869767   \n",
       "4     People using safely managed drinking water ser...  0.637209  0.637209   \n",
       "5     Prevalence of moderate or severe food insecuri...  0.000000  0.455814   \n",
       "6      Prevalence of undernourishment (% of population)  0.795349  0.795349   \n",
       "7     Renewable energy consumption (% of total final...  0.986047  0.986047   \n",
       "8     Renewable internal freshwater resources per ca...  0.851163  0.851163   \n",
       "9        Secure Internet servers (per 1 million people)  0.976744  0.986047   \n",
       "10            Total reserves (% of total external debt)  0.483721  0.493023   \n",
       "11    Unemployment, total (% of total labor force) (...  0.865116  0.865116   \n",
       "12    Unemployment, youth total (% of total labor fo...  0.865116  0.865116   \n",
       "\n",
       "year      2016      2017      2018      2019      2020      2021      2022  \\\n",
       "0     0.995349  0.995349  0.995349  0.995349  0.995349  0.995349  0.995349   \n",
       "1     0.553488  0.553488  0.553488  0.553488  0.553488  0.553488  0.553488   \n",
       "2     0.944186  0.953488  0.813953  0.865116  0.893023  0.883721  0.851163   \n",
       "3     0.869767  0.846512  0.832558  0.832558  0.804651  0.804651  0.800000   \n",
       "4     0.641860  0.641860  0.637209  0.637209  0.637209  0.627907  0.613953   \n",
       "5     0.460465  0.539535  0.572093  0.627907  0.683721  0.706977  0.702326   \n",
       "6     0.795349  0.795349  0.795349  0.790698  0.795349  0.795349  0.795349   \n",
       "7     0.986047  0.986047  0.986047  0.986047  0.986047  0.986047  0.330233   \n",
       "8     0.851163  0.851163  0.851163  0.851163  0.851163  0.851163  0.000000   \n",
       "9     0.995349  0.995349  0.990698  0.986047  0.995349  1.000000  1.000000   \n",
       "10    0.493023  0.488372  0.483721  0.474419  0.465116  0.446512  0.427907   \n",
       "11    0.865116  0.865116  0.865116  0.865116  0.865116  0.865116  0.860465   \n",
       "12    0.865116  0.865116  0.865116  0.865116  0.865116  0.865116  0.860465   \n",
       "\n",
       "year      2023  \n",
       "0     0.000000  \n",
       "1     0.553488  \n",
       "2     0.274419  \n",
       "3     0.758140  \n",
       "4     0.000000  \n",
       "5     0.000000  \n",
       "6     0.000000  \n",
       "7     0.000000  \n",
       "8     0.000000  \n",
       "9     1.000000  \n",
       "10    0.390698  \n",
       "11    0.851163  \n",
       "12    0.851163  "
      ],
      "text/html": [
       "<div>\n",
       "<style scoped>\n",
       "    .dataframe tbody tr th:only-of-type {\n",
       "        vertical-align: middle;\n",
       "    }\n",
       "\n",
       "    .dataframe tbody tr th {\n",
       "        vertical-align: top;\n",
       "    }\n",
       "\n",
       "    .dataframe thead th {\n",
       "        text-align: right;\n",
       "    }\n",
       "</style>\n",
       "<table border=\"1\" class=\"dataframe\">\n",
       "  <thead>\n",
       "    <tr style=\"text-align: right;\">\n",
       "      <th>year</th>\n",
       "      <th>indicatorName</th>\n",
       "      <th>2014</th>\n",
       "      <th>2015</th>\n",
       "      <th>2016</th>\n",
       "      <th>2017</th>\n",
       "      <th>2018</th>\n",
       "      <th>2019</th>\n",
       "      <th>2020</th>\n",
       "      <th>2021</th>\n",
       "      <th>2022</th>\n",
       "      <th>2023</th>\n",
       "    </tr>\n",
       "  </thead>\n",
       "  <tbody>\n",
       "    <tr>\n",
       "      <th>0</th>\n",
       "      <td>Access to electricity (% of population)</td>\n",
       "      <td>0.995349</td>\n",
       "      <td>0.995349</td>\n",
       "      <td>0.995349</td>\n",
       "      <td>0.995349</td>\n",
       "      <td>0.995349</td>\n",
       "      <td>0.995349</td>\n",
       "      <td>0.995349</td>\n",
       "      <td>0.995349</td>\n",
       "      <td>0.995349</td>\n",
       "      <td>0.000000</td>\n",
       "    </tr>\n",
       "    <tr>\n",
       "      <th>1</th>\n",
       "      <td>External debt stocks, total (DOD, current US$)</td>\n",
       "      <td>0.544186</td>\n",
       "      <td>0.553488</td>\n",
       "      <td>0.553488</td>\n",
       "      <td>0.553488</td>\n",
       "      <td>0.553488</td>\n",
       "      <td>0.553488</td>\n",
       "      <td>0.553488</td>\n",
       "      <td>0.553488</td>\n",
       "      <td>0.553488</td>\n",
       "      <td>0.553488</td>\n",
       "    </tr>\n",
       "    <tr>\n",
       "      <th>2</th>\n",
       "      <td>Individuals using the Internet (% of population)</td>\n",
       "      <td>0.934884</td>\n",
       "      <td>0.930233</td>\n",
       "      <td>0.944186</td>\n",
       "      <td>0.953488</td>\n",
       "      <td>0.813953</td>\n",
       "      <td>0.865116</td>\n",
       "      <td>0.893023</td>\n",
       "      <td>0.883721</td>\n",
       "      <td>0.851163</td>\n",
       "      <td>0.274419</td>\n",
       "    </tr>\n",
       "    <tr>\n",
       "      <th>3</th>\n",
       "      <td>Inflation, consumer prices (annual %)</td>\n",
       "      <td>0.874419</td>\n",
       "      <td>0.869767</td>\n",
       "      <td>0.869767</td>\n",
       "      <td>0.846512</td>\n",
       "      <td>0.832558</td>\n",
       "      <td>0.832558</td>\n",
       "      <td>0.804651</td>\n",
       "      <td>0.804651</td>\n",
       "      <td>0.800000</td>\n",
       "      <td>0.758140</td>\n",
       "    </tr>\n",
       "    <tr>\n",
       "      <th>4</th>\n",
       "      <td>People using safely managed drinking water ser...</td>\n",
       "      <td>0.637209</td>\n",
       "      <td>0.637209</td>\n",
       "      <td>0.641860</td>\n",
       "      <td>0.641860</td>\n",
       "      <td>0.637209</td>\n",
       "      <td>0.637209</td>\n",
       "      <td>0.637209</td>\n",
       "      <td>0.627907</td>\n",
       "      <td>0.613953</td>\n",
       "      <td>0.000000</td>\n",
       "    </tr>\n",
       "    <tr>\n",
       "      <th>5</th>\n",
       "      <td>Prevalence of moderate or severe food insecuri...</td>\n",
       "      <td>0.000000</td>\n",
       "      <td>0.455814</td>\n",
       "      <td>0.460465</td>\n",
       "      <td>0.539535</td>\n",
       "      <td>0.572093</td>\n",
       "      <td>0.627907</td>\n",
       "      <td>0.683721</td>\n",
       "      <td>0.706977</td>\n",
       "      <td>0.702326</td>\n",
       "      <td>0.000000</td>\n",
       "    </tr>\n",
       "    <tr>\n",
       "      <th>6</th>\n",
       "      <td>Prevalence of undernourishment (% of population)</td>\n",
       "      <td>0.795349</td>\n",
       "      <td>0.795349</td>\n",
       "      <td>0.795349</td>\n",
       "      <td>0.795349</td>\n",
       "      <td>0.795349</td>\n",
       "      <td>0.790698</td>\n",
       "      <td>0.795349</td>\n",
       "      <td>0.795349</td>\n",
       "      <td>0.795349</td>\n",
       "      <td>0.000000</td>\n",
       "    </tr>\n",
       "    <tr>\n",
       "      <th>7</th>\n",
       "      <td>Renewable energy consumption (% of total final...</td>\n",
       "      <td>0.986047</td>\n",
       "      <td>0.986047</td>\n",
       "      <td>0.986047</td>\n",
       "      <td>0.986047</td>\n",
       "      <td>0.986047</td>\n",
       "      <td>0.986047</td>\n",
       "      <td>0.986047</td>\n",
       "      <td>0.986047</td>\n",
       "      <td>0.330233</td>\n",
       "      <td>0.000000</td>\n",
       "    </tr>\n",
       "    <tr>\n",
       "      <th>8</th>\n",
       "      <td>Renewable internal freshwater resources per ca...</td>\n",
       "      <td>0.851163</td>\n",
       "      <td>0.851163</td>\n",
       "      <td>0.851163</td>\n",
       "      <td>0.851163</td>\n",
       "      <td>0.851163</td>\n",
       "      <td>0.851163</td>\n",
       "      <td>0.851163</td>\n",
       "      <td>0.851163</td>\n",
       "      <td>0.000000</td>\n",
       "      <td>0.000000</td>\n",
       "    </tr>\n",
       "    <tr>\n",
       "      <th>9</th>\n",
       "      <td>Secure Internet servers (per 1 million people)</td>\n",
       "      <td>0.976744</td>\n",
       "      <td>0.986047</td>\n",
       "      <td>0.995349</td>\n",
       "      <td>0.995349</td>\n",
       "      <td>0.990698</td>\n",
       "      <td>0.986047</td>\n",
       "      <td>0.995349</td>\n",
       "      <td>1.000000</td>\n",
       "      <td>1.000000</td>\n",
       "      <td>1.000000</td>\n",
       "    </tr>\n",
       "    <tr>\n",
       "      <th>10</th>\n",
       "      <td>Total reserves (% of total external debt)</td>\n",
       "      <td>0.483721</td>\n",
       "      <td>0.493023</td>\n",
       "      <td>0.493023</td>\n",
       "      <td>0.488372</td>\n",
       "      <td>0.483721</td>\n",
       "      <td>0.474419</td>\n",
       "      <td>0.465116</td>\n",
       "      <td>0.446512</td>\n",
       "      <td>0.427907</td>\n",
       "      <td>0.390698</td>\n",
       "    </tr>\n",
       "    <tr>\n",
       "      <th>11</th>\n",
       "      <td>Unemployment, total (% of total labor force) (...</td>\n",
       "      <td>0.865116</td>\n",
       "      <td>0.865116</td>\n",
       "      <td>0.865116</td>\n",
       "      <td>0.865116</td>\n",
       "      <td>0.865116</td>\n",
       "      <td>0.865116</td>\n",
       "      <td>0.865116</td>\n",
       "      <td>0.865116</td>\n",
       "      <td>0.860465</td>\n",
       "      <td>0.851163</td>\n",
       "    </tr>\n",
       "    <tr>\n",
       "      <th>12</th>\n",
       "      <td>Unemployment, youth total (% of total labor fo...</td>\n",
       "      <td>0.865116</td>\n",
       "      <td>0.865116</td>\n",
       "      <td>0.865116</td>\n",
       "      <td>0.865116</td>\n",
       "      <td>0.865116</td>\n",
       "      <td>0.865116</td>\n",
       "      <td>0.865116</td>\n",
       "      <td>0.865116</td>\n",
       "      <td>0.860465</td>\n",
       "      <td>0.851163</td>\n",
       "    </tr>\n",
       "  </tbody>\n",
       "</table>\n",
       "</div>"
      ]
     },
     "execution_count": 9,
     "metadata": {},
     "output_type": "execute_result"
    }
   ],
   "execution_count": 9
  },
  {
   "metadata": {},
   "cell_type": "markdown",
   "source": [
    "#### Year selection for Worldbank Development Indicators (dataset 2)\n",
    "\n",
    "Based on the availability of data for the Worldbank Development Indicators, one year is selected for each indicator that balances recency and data availability. The missing data will be handled in the imputation step. The selected years are:\n",
    "\n",
    "- 2022 (99%) <- Access to electricity (% of population)\n",
    "- 2023 (55%) <- \"External debt stocks, total (DOD, current US$)\"\n",
    "- 2022 (85%) <- Individuals using the Internet (% of population)\n",
    "- 2023 (75%) <- \"Inflation, consumer prices (annual %)\"\n",
    "- 2022 (61%) <- People using safely managed drinking water services (% of population)\n",
    "- 2022 (70%) <- Prevalence of moderate or severe food insecurity in the population (%)\n",
    "- 2022 (80%) <- Prevalence of undernourishment (% of population)\n",
    "- 2021 (98%) <- Renewable energy consumption (% of total final energy consumption)\n",
    "- 2021 (85%) <- Renewable internal freshwater resources per capita (cubic meters)\n",
    "- 2023 (100%) <- Secure Internet servers (per 1 million people)\n",
    "- 2021 (44%) <- Total reserves (% of total external debt)\n",
    "- 2023 (85%) <- \"Unemployment, total (% of total labor force) (modeled ILO estimate)\"\n",
    "- 2023 (85%) <- \"Unemployment, youth total (% of total labor force ages 15-24) (modeled ILO estimate)\"\n"
   ],
   "id": "d2fb9033a73da024"
  },
  {
   "metadata": {
    "ExecuteTime": {
     "end_time": "2025-03-22T15:40:19.663758Z",
     "start_time": "2025-03-22T15:40:19.659183Z"
    }
   },
   "cell_type": "code",
   "source": [
    "# Water Scarcity & Food Security\n",
    "\n",
    "# INDICATORS:\n",
    "# Renewable internal freshwater resources per capita (cubic meters)\n",
    "# People using safely managed drinking water services (% of population)\n",
    "# Prevalence of moderate or severe food insecurity in the population (%)\n",
    "# Prevalence of undernourishment (% of population)\n",
    "\n",
    "water_food = wb_dev2[['Country Name', '2022_People using safely managed drinking water services (% of population)', '2022_Prevalence of moderate or severe food insecurity in the population (%)', '2022_Prevalence of undernourishment (% of population)', '2021_Renewable internal freshwater resources per capita (cubic meters)']]\n",
    "# rename columns\n",
    "indicator_cols = ['Safe Drinking Water (%)', 'Food Insecurity (%)', 'Undernourishment (%)', 'Renewable Freshwater per Capita (m3)']\n",
    "water_food.columns = ['Country'] + indicator_cols\n",
    "# merge\n",
    "env_data = merge(env_data, water_food, indicator_cols)"
   ],
   "id": "adcda6bf93b2843e",
   "outputs": [
    {
     "name": "stdout",
     "output_type": "stream",
     "text": [
      "['Country' 'Temp Change max 2012-2022'\n",
      " 'Disaster Affected Population 2020-2025' 'Disaster Damage US$T 2020-2025'\n",
      " 'Unsafe water, sanitation (YLL)' 'Air pollution (YLL)'\n",
      " 'Safe Drinking Water (%)' 'Food Insecurity (%)' 'Undernourishment (%)'\n",
      " 'Renewable Freshwater per Capita (m3)']\n"
     ]
    }
   ],
   "execution_count": 10
  },
  {
   "metadata": {},
   "cell_type": "markdown",
   "source": "### Political Instability & Governance\n",
   "id": "c39b05edff4bfccd"
  },
  {
   "metadata": {
    "ExecuteTime": {
     "end_time": "2025-03-22T15:40:19.672116Z",
     "start_time": "2025-03-22T15:40:19.664336Z"
    }
   },
   "cell_type": "code",
   "source": "pol_data = pd.DataFrame(my_cs.all_countries(), columns=['Country'])",
   "id": "f7547f4e5594dd8b",
   "outputs": [],
   "execution_count": 11
  },
  {
   "metadata": {
    "ExecuteTime": {
     "end_time": "2025-03-22T15:40:19.705393Z",
     "start_time": "2025-03-22T15:40:19.672776Z"
    }
   },
   "cell_type": "code",
   "source": [
    "# Governance Quality\n",
    "\n",
    "wb_gov = pd.read_csv('data/Worldbank_governance.csv')\n",
    "wb_gov = transpose_world_bank_data(wb_gov, range(2014, 2024))\n",
    "\n",
    "# check availability of data for each indicator over the years\n",
    "indicator_yearly_availability(wb_gov)"
   ],
   "id": "9520961c4e6600ee",
   "outputs": [
    {
     "data": {
      "text/plain": [
       "year                                      indicatorName      2014      2015  \\\n",
       "0                       Control of Corruption: Estimate  0.981132  0.990566   \n",
       "1                    Government Effectiveness: Estimate  0.981132  0.990566   \n",
       "2     Political Stability and Absence of Violence/Te...  0.990566  0.990566   \n",
       "3                          Regulatory Quality: Estimate  0.981132  0.990566   \n",
       "4                                 Rule of Law: Estimate  0.981132  0.990566   \n",
       "5                    Voice and Accountability: Estimate  0.957547  0.957547   \n",
       "\n",
       "year      2016      2017      2018      2019      2020      2021      2022  \\\n",
       "0     0.990566  0.990566  0.990566  0.990566  0.990566  0.990566  1.000000   \n",
       "1     0.990566  0.990566  0.990566  0.990566  0.990566  0.990566  1.000000   \n",
       "2     0.990566  0.990566  1.000000  1.000000  1.000000  1.000000  1.000000   \n",
       "3     0.990566  0.990566  0.990566  0.990566  0.990566  0.990566  1.000000   \n",
       "4     0.990566  0.990566  0.990566  0.990566  0.990566  0.990566  1.000000   \n",
       "5     0.957547  0.957547  0.971698  0.976415  0.976415  0.976415  0.976415   \n",
       "\n",
       "year      2023  \n",
       "0     1.000000  \n",
       "1     1.000000  \n",
       "2     0.995283  \n",
       "3     1.000000  \n",
       "4     1.000000  \n",
       "5     0.962264  "
      ],
      "text/html": [
       "<div>\n",
       "<style scoped>\n",
       "    .dataframe tbody tr th:only-of-type {\n",
       "        vertical-align: middle;\n",
       "    }\n",
       "\n",
       "    .dataframe tbody tr th {\n",
       "        vertical-align: top;\n",
       "    }\n",
       "\n",
       "    .dataframe thead th {\n",
       "        text-align: right;\n",
       "    }\n",
       "</style>\n",
       "<table border=\"1\" class=\"dataframe\">\n",
       "  <thead>\n",
       "    <tr style=\"text-align: right;\">\n",
       "      <th>year</th>\n",
       "      <th>indicatorName</th>\n",
       "      <th>2014</th>\n",
       "      <th>2015</th>\n",
       "      <th>2016</th>\n",
       "      <th>2017</th>\n",
       "      <th>2018</th>\n",
       "      <th>2019</th>\n",
       "      <th>2020</th>\n",
       "      <th>2021</th>\n",
       "      <th>2022</th>\n",
       "      <th>2023</th>\n",
       "    </tr>\n",
       "  </thead>\n",
       "  <tbody>\n",
       "    <tr>\n",
       "      <th>0</th>\n",
       "      <td>Control of Corruption: Estimate</td>\n",
       "      <td>0.981132</td>\n",
       "      <td>0.990566</td>\n",
       "      <td>0.990566</td>\n",
       "      <td>0.990566</td>\n",
       "      <td>0.990566</td>\n",
       "      <td>0.990566</td>\n",
       "      <td>0.990566</td>\n",
       "      <td>0.990566</td>\n",
       "      <td>1.000000</td>\n",
       "      <td>1.000000</td>\n",
       "    </tr>\n",
       "    <tr>\n",
       "      <th>1</th>\n",
       "      <td>Government Effectiveness: Estimate</td>\n",
       "      <td>0.981132</td>\n",
       "      <td>0.990566</td>\n",
       "      <td>0.990566</td>\n",
       "      <td>0.990566</td>\n",
       "      <td>0.990566</td>\n",
       "      <td>0.990566</td>\n",
       "      <td>0.990566</td>\n",
       "      <td>0.990566</td>\n",
       "      <td>1.000000</td>\n",
       "      <td>1.000000</td>\n",
       "    </tr>\n",
       "    <tr>\n",
       "      <th>2</th>\n",
       "      <td>Political Stability and Absence of Violence/Te...</td>\n",
       "      <td>0.990566</td>\n",
       "      <td>0.990566</td>\n",
       "      <td>0.990566</td>\n",
       "      <td>0.990566</td>\n",
       "      <td>1.000000</td>\n",
       "      <td>1.000000</td>\n",
       "      <td>1.000000</td>\n",
       "      <td>1.000000</td>\n",
       "      <td>1.000000</td>\n",
       "      <td>0.995283</td>\n",
       "    </tr>\n",
       "    <tr>\n",
       "      <th>3</th>\n",
       "      <td>Regulatory Quality: Estimate</td>\n",
       "      <td>0.981132</td>\n",
       "      <td>0.990566</td>\n",
       "      <td>0.990566</td>\n",
       "      <td>0.990566</td>\n",
       "      <td>0.990566</td>\n",
       "      <td>0.990566</td>\n",
       "      <td>0.990566</td>\n",
       "      <td>0.990566</td>\n",
       "      <td>1.000000</td>\n",
       "      <td>1.000000</td>\n",
       "    </tr>\n",
       "    <tr>\n",
       "      <th>4</th>\n",
       "      <td>Rule of Law: Estimate</td>\n",
       "      <td>0.981132</td>\n",
       "      <td>0.990566</td>\n",
       "      <td>0.990566</td>\n",
       "      <td>0.990566</td>\n",
       "      <td>0.990566</td>\n",
       "      <td>0.990566</td>\n",
       "      <td>0.990566</td>\n",
       "      <td>0.990566</td>\n",
       "      <td>1.000000</td>\n",
       "      <td>1.000000</td>\n",
       "    </tr>\n",
       "    <tr>\n",
       "      <th>5</th>\n",
       "      <td>Voice and Accountability: Estimate</td>\n",
       "      <td>0.957547</td>\n",
       "      <td>0.957547</td>\n",
       "      <td>0.957547</td>\n",
       "      <td>0.957547</td>\n",
       "      <td>0.971698</td>\n",
       "      <td>0.976415</td>\n",
       "      <td>0.976415</td>\n",
       "      <td>0.976415</td>\n",
       "      <td>0.976415</td>\n",
       "      <td>0.962264</td>\n",
       "    </tr>\n",
       "  </tbody>\n",
       "</table>\n",
       "</div>"
      ]
     },
     "execution_count": 12,
     "metadata": {},
     "output_type": "execute_result"
    }
   ],
   "execution_count": 12
  },
  {
   "metadata": {
    "ExecuteTime": {
     "end_time": "2025-03-22T15:40:19.711375Z",
     "start_time": "2025-03-22T15:40:19.706969Z"
    }
   },
   "cell_type": "code",
   "source": [
    "# use 2023 since all data is >95% available\n",
    "\n",
    "# INDICATORS:\n",
    "# Corruption Control\n",
    "# Rule of Law\n",
    "# Political Stability\n",
    "# Government Effectiveness\n",
    "# Regulatory Quality\n",
    "# Voice and Accountability\n",
    "\n",
    "governance = wb_gov[['Country Name'] + list(wb_gov.columns[wb_gov.columns.str.startswith('2023')])]\n",
    "# rename columns\n",
    "indicator_cols = ['Corruption Control', 'Rule of Law', 'Political Stability', 'Government Effectiveness', 'Regulatory Quality', 'Voice and Accountability']\n",
    "governance.columns = ['Country'] + indicator_cols\n",
    "# merge\n",
    "pol_data = merge(pol_data, governance, indicator_cols)"
   ],
   "id": "7637740e364167b3",
   "outputs": [
    {
     "name": "stdout",
     "output_type": "stream",
     "text": [
      "['Country' 'Corruption Control' 'Rule of Law' 'Political Stability'\n",
      " 'Government Effectiveness' 'Regulatory Quality'\n",
      " 'Voice and Accountability']\n"
     ]
    }
   ],
   "execution_count": 13
  },
  {
   "metadata": {
    "ExecuteTime": {
     "end_time": "2025-03-22T15:40:19.777568Z",
     "start_time": "2025-03-22T15:40:19.712365Z"
    }
   },
   "cell_type": "code",
   "source": [
    "# INDICATOR: Democracy, not Autocracy\n",
    "\n",
    "regime = pd.read_csv('data/V-Dem-Institute_ERT_democracy.csv')\n",
    "# select most recent year\n",
    "regime = regime[regime['year'] == 2023]\n",
    "# standardise country names\n",
    "regime['country_name'] = my_cs.standardise_countries(regime['country_text_id'], fuzzy_threshold=100)\n",
    "regime = regime[regime['country_name'] != my_cs.UNKNOWN_COUNTRY]\n",
    "# select & rename columns\n",
    "regime = regime[['country_name', 'reg_type']]\n",
    "indicator_cols = ['Democracy, not Autocracy']\n",
    "regime.columns = ['Country'] + indicator_cols\n",
    "# merge\n",
    "pol_data = merge(pol_data, regime, indicator_cols)"
   ],
   "id": "e7af507cbb30fdc1",
   "outputs": [
    {
     "name": "stdout",
     "output_type": "stream",
     "text": [
      "Country 'XKX' not found (best fuzzy match too low: Denmark (36))\n",
      "Country 'PSG' not found (best fuzzy match too low: Cyprus (44))\n",
      "Country 'SML' not found (best fuzzy match too low: Åland Islands (60))\n",
      "Country 'ZZB' not found (best fuzzy match too low: Uzbekistan (60))\n",
      "['Country' 'Corruption Control' 'Rule of Law' 'Political Stability'\n",
      " 'Government Effectiveness' 'Regulatory Quality'\n",
      " 'Voice and Accountability' 'Democracy, not Autocracy']\n"
     ]
    }
   ],
   "execution_count": 14
  },
  {
   "metadata": {},
   "cell_type": "markdown",
   "source": "### Social Vulnerability\n",
   "id": "39954bae1ce158d0"
  },
  {
   "metadata": {
    "ExecuteTime": {
     "end_time": "2025-03-22T15:40:19.780813Z",
     "start_time": "2025-03-22T15:40:19.778498Z"
    }
   },
   "cell_type": "code",
   "source": "soc_data = pd.DataFrame(my_cs.all_countries(), columns=['Country'])",
   "id": "1d0cd2f4d6a901b0",
   "outputs": [],
   "execution_count": 15
  },
  {
   "metadata": {
    "ExecuteTime": {
     "end_time": "2025-03-22T15:40:19.816784Z",
     "start_time": "2025-03-22T15:40:19.781539Z"
    }
   },
   "cell_type": "code",
   "source": [
    "wb_dev1 = pd.read_csv(\"data/Worldbank_development_1_poverty.csv\")\n",
    "wb_dev1 = transpose_world_bank_data(wb_dev1, range(2014, 2024))\n",
    "\n",
    "# check availability of data for each indicator over the years\n",
    "indicator_yearly_availability(wb_dev1)"
   ],
   "id": "db812704826a6df1",
   "outputs": [
    {
     "data": {
      "text/plain": [
       "year                                      indicatorName      2014      2015  \\\n",
       "0                                            Gini index  0.376744  0.390698   \n",
       "1                      Income share held by highest 10%  0.376744  0.390698   \n",
       "2                       Income share held by lowest 20%  0.376744  0.390698   \n",
       "3     Poverty headcount ratio at societal poverty li...  0.376744  0.390698   \n",
       "\n",
       "year      2016     2017      2018      2019      2020      2021      2022  \\\n",
       "0     0.372093  0.35814  0.423256  0.358140  0.302326  0.330233  0.130233   \n",
       "1     0.372093  0.35814  0.423256  0.353488  0.302326  0.330233  0.130233   \n",
       "2     0.372093  0.35814  0.423256  0.353488  0.302326  0.330233  0.130233   \n",
       "3     0.372093  0.35814  0.423256  0.358140  0.302326  0.330233  0.130233   \n",
       "\n",
       "year      2023  \n",
       "0     0.018605  \n",
       "1     0.018605  \n",
       "2     0.018605  \n",
       "3     0.018605  "
      ],
      "text/html": [
       "<div>\n",
       "<style scoped>\n",
       "    .dataframe tbody tr th:only-of-type {\n",
       "        vertical-align: middle;\n",
       "    }\n",
       "\n",
       "    .dataframe tbody tr th {\n",
       "        vertical-align: top;\n",
       "    }\n",
       "\n",
       "    .dataframe thead th {\n",
       "        text-align: right;\n",
       "    }\n",
       "</style>\n",
       "<table border=\"1\" class=\"dataframe\">\n",
       "  <thead>\n",
       "    <tr style=\"text-align: right;\">\n",
       "      <th>year</th>\n",
       "      <th>indicatorName</th>\n",
       "      <th>2014</th>\n",
       "      <th>2015</th>\n",
       "      <th>2016</th>\n",
       "      <th>2017</th>\n",
       "      <th>2018</th>\n",
       "      <th>2019</th>\n",
       "      <th>2020</th>\n",
       "      <th>2021</th>\n",
       "      <th>2022</th>\n",
       "      <th>2023</th>\n",
       "    </tr>\n",
       "  </thead>\n",
       "  <tbody>\n",
       "    <tr>\n",
       "      <th>0</th>\n",
       "      <td>Gini index</td>\n",
       "      <td>0.376744</td>\n",
       "      <td>0.390698</td>\n",
       "      <td>0.372093</td>\n",
       "      <td>0.35814</td>\n",
       "      <td>0.423256</td>\n",
       "      <td>0.358140</td>\n",
       "      <td>0.302326</td>\n",
       "      <td>0.330233</td>\n",
       "      <td>0.130233</td>\n",
       "      <td>0.018605</td>\n",
       "    </tr>\n",
       "    <tr>\n",
       "      <th>1</th>\n",
       "      <td>Income share held by highest 10%</td>\n",
       "      <td>0.376744</td>\n",
       "      <td>0.390698</td>\n",
       "      <td>0.372093</td>\n",
       "      <td>0.35814</td>\n",
       "      <td>0.423256</td>\n",
       "      <td>0.353488</td>\n",
       "      <td>0.302326</td>\n",
       "      <td>0.330233</td>\n",
       "      <td>0.130233</td>\n",
       "      <td>0.018605</td>\n",
       "    </tr>\n",
       "    <tr>\n",
       "      <th>2</th>\n",
       "      <td>Income share held by lowest 20%</td>\n",
       "      <td>0.376744</td>\n",
       "      <td>0.390698</td>\n",
       "      <td>0.372093</td>\n",
       "      <td>0.35814</td>\n",
       "      <td>0.423256</td>\n",
       "      <td>0.353488</td>\n",
       "      <td>0.302326</td>\n",
       "      <td>0.330233</td>\n",
       "      <td>0.130233</td>\n",
       "      <td>0.018605</td>\n",
       "    </tr>\n",
       "    <tr>\n",
       "      <th>3</th>\n",
       "      <td>Poverty headcount ratio at societal poverty li...</td>\n",
       "      <td>0.376744</td>\n",
       "      <td>0.390698</td>\n",
       "      <td>0.372093</td>\n",
       "      <td>0.35814</td>\n",
       "      <td>0.423256</td>\n",
       "      <td>0.358140</td>\n",
       "      <td>0.302326</td>\n",
       "      <td>0.330233</td>\n",
       "      <td>0.130233</td>\n",
       "      <td>0.018605</td>\n",
       "    </tr>\n",
       "  </tbody>\n",
       "</table>\n",
       "</div>"
      ]
     },
     "execution_count": 16,
     "metadata": {},
     "output_type": "execute_result"
    }
   ],
   "execution_count": 16
  },
  {
   "metadata": {},
   "cell_type": "markdown",
   "source": [
    "#### Year selection for Worldbank Development Indicators (dataset 1)\n",
    "\n",
    "- 2021 (33%) <- Gini index\n",
    "- 2021 (33%) <- Income share held by highest 10%\n",
    "- 2021 (33%) <- Income share held by lowest 20%\n",
    "- 2021 (33%) <- Poverty headcount ratio at societal poverty line (% of population)"
   ],
   "id": "81545d239bf71f14"
  },
  {
   "metadata": {
    "ExecuteTime": {
     "end_time": "2025-03-22T15:40:19.822952Z",
     "start_time": "2025-03-22T15:40:19.817650Z"
    }
   },
   "cell_type": "code",
   "source": [
    "# Poverty\n",
    "\n",
    "# INDICATOR: Population percentage below societal poverty line\n",
    "\n",
    "poverty = wb_dev1[['Country Name', '2021_Poverty headcount ratio at societal poverty line (% of population)']]\n",
    "# rename columns\n",
    "indicator_cols = ['Population below Poverty Line (%)']\n",
    "poverty.columns = ['Country'] + indicator_cols\n",
    "# merge\n",
    "soc_data = merge(soc_data, poverty, indicator_cols)"
   ],
   "id": "45bd4a73992dc550",
   "outputs": [
    {
     "name": "stdout",
     "output_type": "stream",
     "text": [
      "['Country' 'Population below Poverty Line (%)']\n"
     ]
    }
   ],
   "execution_count": 17
  },
  {
   "metadata": {
    "ExecuteTime": {
     "end_time": "2025-03-22T15:40:20.040048Z",
     "start_time": "2025-03-22T15:40:19.823664Z"
    }
   },
   "cell_type": "code",
   "source": [
    "who_ghe = pd.read_csv(\"data/WHO_GHE_data_selected.csv\")\n",
    "who_ghe = transpose_who_data(who_ghe, range(2020, 2024))\n",
    "\n",
    "# check availability of data for each indicator over the years\n",
    "indicator_yearly_availability(who_ghe)"
   ],
   "id": "3268ef0ad2df6ad9",
   "outputs": [
    {
     "name": "stdout",
     "output_type": "stream",
     "text": [
      "Using special case for 'Democratic Republic of the Congo' -> 'Congo, Democratic Republic of the'\n",
      "Using special case for 'Democratic Republic of the Congo' -> 'Congo, Democratic Republic of the'\n",
      "Using special case for 'Democratic Republic of the Congo' -> 'Congo, Democratic Republic of the'\n",
      "Using special case for 'Democratic Republic of the Congo' -> 'Congo, Democratic Republic of the'\n",
      "Using special case for 'Democratic Republic of the Congo' -> 'Congo, Democratic Republic of the'\n",
      "Using fuzzy match for 'Bolivia (Plurinational State of)' -> 'Bolivia, Plurinational State of'\n",
      "Using fuzzy match for 'Bolivia (Plurinational State of)' -> 'Bolivia, Plurinational State of'\n",
      "Using fuzzy match for 'Bolivia (Plurinational State of)' -> 'Bolivia, Plurinational State of'\n",
      "Using fuzzy match for 'Bolivia (Plurinational State of)' -> 'Bolivia, Plurinational State of'\n",
      "Using fuzzy match for 'Venezuela (Bolivarian Republic of)' -> 'Venezuela, Bolivarian Republic of'\n",
      "Using fuzzy match for 'Venezuela (Bolivarian Republic of)' -> 'Venezuela, Bolivarian Republic of'\n",
      "Using fuzzy match for 'Venezuela (Bolivarian Republic of)' -> 'Venezuela, Bolivarian Republic of'\n",
      "Using fuzzy match for 'Venezuela (Bolivarian Republic of)' -> 'Venezuela, Bolivarian Republic of'\n",
      "Using fuzzy match for 'Venezuela (Bolivarian Republic of)' -> 'Venezuela, Bolivarian Republic of'\n",
      "Using fuzzy match for 'Iran (Islamic Republic of)' -> 'Iran, Islamic Republic of'\n",
      "Using fuzzy match for 'Iran (Islamic Republic of)' -> 'Iran, Islamic Republic of'\n",
      "Using fuzzy match for 'Iran (Islamic Republic of)' -> 'Iran, Islamic Republic of'\n",
      "Using fuzzy match for 'Iran (Islamic Republic of)' -> 'Iran, Islamic Republic of'\n",
      "Using fuzzy match for 'Iran (Islamic Republic of)' -> 'Iran, Islamic Republic of'\n",
      "Using fuzzy match for 'Netherlands (Kingdom of the)' -> 'Netherlands'\n",
      "Using fuzzy match for 'Netherlands (Kingdom of the)' -> 'Netherlands'\n",
      "Using fuzzy match for 'Netherlands (Kingdom of the)' -> 'Netherlands'\n",
      "Using fuzzy match for 'Netherlands (Kingdom of the)' -> 'Netherlands'\n",
      "Using fuzzy match for 'Netherlands (Kingdom of the)' -> 'Netherlands'\n",
      "Using fuzzy match for 'Netherlands (Kingdom of the)' -> 'Netherlands'\n",
      "Using fuzzy match for 'Micronesia (Federated States of)' -> 'Micronesia, Federated States of'\n",
      "Using fuzzy match for 'Micronesia (Federated States of)' -> 'Micronesia, Federated States of'\n",
      "Using fuzzy match for 'Micronesia (Federated States of)' -> 'Micronesia, Federated States of'\n",
      "Using fuzzy match for 'Micronesia (Federated States of)' -> 'Micronesia, Federated States of'\n",
      "Using fuzzy match for 'Republic of Korea' -> 'Korea, Republic of'\n",
      "Using fuzzy match for 'Republic of Korea' -> 'Korea, Republic of'\n",
      "Using fuzzy match for 'Republic of Korea' -> 'Korea, Republic of'\n",
      "Using fuzzy match for 'Republic of Korea' -> 'Korea, Republic of'\n",
      "Using fuzzy match for 'Republic of Korea' -> 'Korea, Republic of'\n",
      "Using fuzzy match for 'Republic of Korea' -> 'Korea, Republic of'\n"
     ]
    },
    {
     "data": {
      "text/plain": [
       "year                                      indicatorName      2020      2021  \\\n",
       "0                      Current Health Expenditure (CHE)  0.994845  0.989691   \n",
       "1     Current Health Expenditure (CHE) as % Gross Do...  1.000000  1.000000   \n",
       "2     Current Health Expenditure (CHE) per Capita in...  1.000000  0.994845   \n",
       "3             Expenditure on COVID-19 per Capita in US$  0.309278  0.298969   \n",
       "4                             Population (in thousands)  0.989691  0.989691   \n",
       "5     Rest of the World (RoW) as % of Current Health...  0.278351  0.242268   \n",
       "\n",
       "year      2022      2023  \n",
       "0     0.984536  0.103093  \n",
       "1     0.994845  0.103093  \n",
       "2     0.989691  0.103093  \n",
       "3     0.175258  0.025773  \n",
       "4     0.989691  0.103093  \n",
       "5     0.211340  0.041237  "
      ],
      "text/html": [
       "<div>\n",
       "<style scoped>\n",
       "    .dataframe tbody tr th:only-of-type {\n",
       "        vertical-align: middle;\n",
       "    }\n",
       "\n",
       "    .dataframe tbody tr th {\n",
       "        vertical-align: top;\n",
       "    }\n",
       "\n",
       "    .dataframe thead th {\n",
       "        text-align: right;\n",
       "    }\n",
       "</style>\n",
       "<table border=\"1\" class=\"dataframe\">\n",
       "  <thead>\n",
       "    <tr style=\"text-align: right;\">\n",
       "      <th>year</th>\n",
       "      <th>indicatorName</th>\n",
       "      <th>2020</th>\n",
       "      <th>2021</th>\n",
       "      <th>2022</th>\n",
       "      <th>2023</th>\n",
       "    </tr>\n",
       "  </thead>\n",
       "  <tbody>\n",
       "    <tr>\n",
       "      <th>0</th>\n",
       "      <td>Current Health Expenditure (CHE)</td>\n",
       "      <td>0.994845</td>\n",
       "      <td>0.989691</td>\n",
       "      <td>0.984536</td>\n",
       "      <td>0.103093</td>\n",
       "    </tr>\n",
       "    <tr>\n",
       "      <th>1</th>\n",
       "      <td>Current Health Expenditure (CHE) as % Gross Do...</td>\n",
       "      <td>1.000000</td>\n",
       "      <td>1.000000</td>\n",
       "      <td>0.994845</td>\n",
       "      <td>0.103093</td>\n",
       "    </tr>\n",
       "    <tr>\n",
       "      <th>2</th>\n",
       "      <td>Current Health Expenditure (CHE) per Capita in...</td>\n",
       "      <td>1.000000</td>\n",
       "      <td>0.994845</td>\n",
       "      <td>0.989691</td>\n",
       "      <td>0.103093</td>\n",
       "    </tr>\n",
       "    <tr>\n",
       "      <th>3</th>\n",
       "      <td>Expenditure on COVID-19 per Capita in US$</td>\n",
       "      <td>0.309278</td>\n",
       "      <td>0.298969</td>\n",
       "      <td>0.175258</td>\n",
       "      <td>0.025773</td>\n",
       "    </tr>\n",
       "    <tr>\n",
       "      <th>4</th>\n",
       "      <td>Population (in thousands)</td>\n",
       "      <td>0.989691</td>\n",
       "      <td>0.989691</td>\n",
       "      <td>0.989691</td>\n",
       "      <td>0.103093</td>\n",
       "    </tr>\n",
       "    <tr>\n",
       "      <th>5</th>\n",
       "      <td>Rest of the World (RoW) as % of Current Health...</td>\n",
       "      <td>0.278351</td>\n",
       "      <td>0.242268</td>\n",
       "      <td>0.211340</td>\n",
       "      <td>0.041237</td>\n",
       "    </tr>\n",
       "  </tbody>\n",
       "</table>\n",
       "</div>"
      ]
     },
     "execution_count": 18,
     "metadata": {},
     "output_type": "execute_result"
    }
   ],
   "execution_count": 18
  },
  {
   "metadata": {},
   "cell_type": "markdown",
   "source": [
    "#### Year selection for WHO Global Health Expenditure Indicators\n",
    "\n",
    "- 2022 (98%) <- Current Health Expenditure (CHE)\n",
    "- 2022 (98%) <- Current Health Expenditure (CHE) as % Gross Domestic Product (GDP)\n",
    "- 2022 (98%) <- Current Health Expenditure (CHE) per Capita in US$\n",
    "- 2021 (98%) <- Expenditure on COVID-19 per Capita in US$\n",
    "- 2022 (98%) <- Rest of the World (RoW) as % of Current Health Expenditure (CHE)\n"
   ],
   "id": "73edf84a0f50c8d6"
  },
  {
   "metadata": {
    "ExecuteTime": {
     "end_time": "2025-03-22T15:40:20.044955Z",
     "start_time": "2025-03-22T15:40:20.040753Z"
    }
   },
   "cell_type": "code",
   "source": [
    "# Health System Strength\n",
    "\n",
    "# INDICATORS:\n",
    "# Current Health Expenditure (CHE) per Capita in US$\n",
    "# Rest of the World (RoW) as % of Current Health Expenditure (CHE)\n",
    "\n",
    "health = who_ghe[['Countries', '2022_Current Health Expenditure (CHE) per Capita in US$', '2022_Rest of the World (RoW) as % of Current Health Expenditure (CHE)']]\n",
    "# rename columns\n",
    "indicator_cols = ['Health Expenditure per Capita (US$)', 'RoW Health Expenditure (%)']\n",
    "health.columns = ['Country'] + indicator_cols\n",
    "# merge\n",
    "soc_data = merge(soc_data, health, indicator_cols)"
   ],
   "id": "765b34de0c39750b",
   "outputs": [
    {
     "name": "stdout",
     "output_type": "stream",
     "text": [
      "['Country' 'Population below Poverty Line (%)'\n",
      " 'Health Expenditure per Capita (US$)' 'RoW Health Expenditure (%)']\n"
     ]
    }
   ],
   "execution_count": 19
  },
  {
   "metadata": {
    "ExecuteTime": {
     "end_time": "2025-03-22T15:40:20.080506Z",
     "start_time": "2025-03-22T15:40:20.045504Z"
    }
   },
   "cell_type": "code",
   "source": [
    "wb_edu = pd.read_csv(\"data/Worldbank_education.csv\")\n",
    "wb_edu = transpose_world_bank_data(wb_edu, [2024, 2023, 2022, 2021, 2020, 2019, 2018, 2017, 2016, 2015, 2014, 2013, 2012, 2011, 2010, 2005, 2000])\n",
    "\n",
    "# check availability of data for each indicator over the years\n",
    "indicator_yearly_availability(wb_edu)"
   ],
   "id": "3efa1b127fafa58",
   "outputs": [
    {
     "data": {
      "text/plain": [
       "year                                      indicatorName      2000      2005  \\\n",
       "0     Adult literacy rate, population 15+ years, bot...  0.203620  0.099548   \n",
       "1     Barro-Lee: Percentage of population age 15+ wi...  0.651584  0.651584   \n",
       "2     Completion rate, lower secondary education, bo...  0.253394  0.280543   \n",
       "3     Government expenditure on education, US$ (mill...  0.542986  0.497738   \n",
       "\n",
       "year      2010      2011      2012      2013      2014      2015      2016  \\\n",
       "0     0.239819  0.266968  0.208145  0.153846  0.239819  0.190045  0.162896   \n",
       "1     0.651584  0.000000  0.000000  0.000000  0.000000  0.000000  0.000000   \n",
       "2     0.190045  0.303167  0.158371  0.285068  0.330317  0.108597  0.135747   \n",
       "3     0.556561  0.533937  0.497738  0.542986  0.520362  0.488688  0.493213   \n",
       "\n",
       "year      2017      2018      2019  2020  2021  2022  2023  2024  \n",
       "0     0.149321  0.357466  0.004525   0.0   0.0   0.0   0.0   0.0  \n",
       "1     0.000000  0.000000  0.000000   0.0   0.0   0.0   0.0   0.0  \n",
       "2     0.104072  0.140271  0.013575   0.0   0.0   0.0   0.0   0.0  \n",
       "3     0.520362  0.280543  0.085973   0.0   0.0   0.0   0.0   0.0  "
      ],
      "text/html": [
       "<div>\n",
       "<style scoped>\n",
       "    .dataframe tbody tr th:only-of-type {\n",
       "        vertical-align: middle;\n",
       "    }\n",
       "\n",
       "    .dataframe tbody tr th {\n",
       "        vertical-align: top;\n",
       "    }\n",
       "\n",
       "    .dataframe thead th {\n",
       "        text-align: right;\n",
       "    }\n",
       "</style>\n",
       "<table border=\"1\" class=\"dataframe\">\n",
       "  <thead>\n",
       "    <tr style=\"text-align: right;\">\n",
       "      <th>year</th>\n",
       "      <th>indicatorName</th>\n",
       "      <th>2000</th>\n",
       "      <th>2005</th>\n",
       "      <th>2010</th>\n",
       "      <th>2011</th>\n",
       "      <th>2012</th>\n",
       "      <th>2013</th>\n",
       "      <th>2014</th>\n",
       "      <th>2015</th>\n",
       "      <th>2016</th>\n",
       "      <th>2017</th>\n",
       "      <th>2018</th>\n",
       "      <th>2019</th>\n",
       "      <th>2020</th>\n",
       "      <th>2021</th>\n",
       "      <th>2022</th>\n",
       "      <th>2023</th>\n",
       "      <th>2024</th>\n",
       "    </tr>\n",
       "  </thead>\n",
       "  <tbody>\n",
       "    <tr>\n",
       "      <th>0</th>\n",
       "      <td>Adult literacy rate, population 15+ years, bot...</td>\n",
       "      <td>0.203620</td>\n",
       "      <td>0.099548</td>\n",
       "      <td>0.239819</td>\n",
       "      <td>0.266968</td>\n",
       "      <td>0.208145</td>\n",
       "      <td>0.153846</td>\n",
       "      <td>0.239819</td>\n",
       "      <td>0.190045</td>\n",
       "      <td>0.162896</td>\n",
       "      <td>0.149321</td>\n",
       "      <td>0.357466</td>\n",
       "      <td>0.004525</td>\n",
       "      <td>0.0</td>\n",
       "      <td>0.0</td>\n",
       "      <td>0.0</td>\n",
       "      <td>0.0</td>\n",
       "      <td>0.0</td>\n",
       "    </tr>\n",
       "    <tr>\n",
       "      <th>1</th>\n",
       "      <td>Barro-Lee: Percentage of population age 15+ wi...</td>\n",
       "      <td>0.651584</td>\n",
       "      <td>0.651584</td>\n",
       "      <td>0.651584</td>\n",
       "      <td>0.000000</td>\n",
       "      <td>0.000000</td>\n",
       "      <td>0.000000</td>\n",
       "      <td>0.000000</td>\n",
       "      <td>0.000000</td>\n",
       "      <td>0.000000</td>\n",
       "      <td>0.000000</td>\n",
       "      <td>0.000000</td>\n",
       "      <td>0.000000</td>\n",
       "      <td>0.0</td>\n",
       "      <td>0.0</td>\n",
       "      <td>0.0</td>\n",
       "      <td>0.0</td>\n",
       "      <td>0.0</td>\n",
       "    </tr>\n",
       "    <tr>\n",
       "      <th>2</th>\n",
       "      <td>Completion rate, lower secondary education, bo...</td>\n",
       "      <td>0.253394</td>\n",
       "      <td>0.280543</td>\n",
       "      <td>0.190045</td>\n",
       "      <td>0.303167</td>\n",
       "      <td>0.158371</td>\n",
       "      <td>0.285068</td>\n",
       "      <td>0.330317</td>\n",
       "      <td>0.108597</td>\n",
       "      <td>0.135747</td>\n",
       "      <td>0.104072</td>\n",
       "      <td>0.140271</td>\n",
       "      <td>0.013575</td>\n",
       "      <td>0.0</td>\n",
       "      <td>0.0</td>\n",
       "      <td>0.0</td>\n",
       "      <td>0.0</td>\n",
       "      <td>0.0</td>\n",
       "    </tr>\n",
       "    <tr>\n",
       "      <th>3</th>\n",
       "      <td>Government expenditure on education, US$ (mill...</td>\n",
       "      <td>0.542986</td>\n",
       "      <td>0.497738</td>\n",
       "      <td>0.556561</td>\n",
       "      <td>0.533937</td>\n",
       "      <td>0.497738</td>\n",
       "      <td>0.542986</td>\n",
       "      <td>0.520362</td>\n",
       "      <td>0.488688</td>\n",
       "      <td>0.493213</td>\n",
       "      <td>0.520362</td>\n",
       "      <td>0.280543</td>\n",
       "      <td>0.085973</td>\n",
       "      <td>0.0</td>\n",
       "      <td>0.0</td>\n",
       "      <td>0.0</td>\n",
       "      <td>0.0</td>\n",
       "      <td>0.0</td>\n",
       "    </tr>\n",
       "  </tbody>\n",
       "</table>\n",
       "</div>"
      ]
     },
     "execution_count": 20,
     "metadata": {},
     "output_type": "execute_result"
    }
   ],
   "execution_count": 20
  },
  {
   "metadata": {},
   "cell_type": "markdown",
   "source": [
    "#### Year selection for Worldbank Education Indicators\n",
    "\n",
    "- 2018 (35%) <- \"Adult literacy rate, population 15+ years, both sexes (%)\"\n",
    "- 2010 (65%) <- Barro-Lee: Percentage of population age 15+ with no education\n",
    "- 2014 (33%) <- \"Completion rate, lower secondary education, both sexes (%)\"\n",
    "- 2017 (52%) <- \"Government expenditure on education, US$ (millions)\"\n",
    "\n",
    "Older years are acceptable as education undergoes slower changes and has long-term effects.\n"
   ],
   "id": "37fee358e448b545"
  },
  {
   "metadata": {
    "ExecuteTime": {
     "end_time": "2025-03-22T15:40:20.085398Z",
     "start_time": "2025-03-22T15:40:20.081392Z"
    }
   },
   "cell_type": "code",
   "source": [
    "# Access to Education\n",
    "\n",
    "# INDICATORS:\n",
    "# Population age 15+ literacy rate\n",
    "# Population age 15+ with no education\n",
    "# Government expenditure on education\n",
    "# Lower secondary school completion rate\n",
    "\n",
    "education = wb_edu[['Country Name', '2018_Adult literacy rate, population 15+ years, both sexes (%)', '2010_Barro-Lee: Percentage of population age 15+ with no education', '2014_Completion rate, lower secondary education, both sexes (%)', '2017_Government expenditure on education, US$ (millions)']]\n",
    "# rename columns\n",
    "indicator_cols = ['Literacy Rate (%)', 'No Education (%)', 'Lower Secondary Completion Rate (%)', 'Education Expenditure (US$M)']\n",
    "education.columns = ['Country'] + indicator_cols\n",
    "# merge\n",
    "soc_data = merge(soc_data, education, indicator_cols)"
   ],
   "id": "eb74c04cc2ce6956",
   "outputs": [
    {
     "name": "stdout",
     "output_type": "stream",
     "text": [
      "['Country' 'Population below Poverty Line (%)'\n",
      " 'Health Expenditure per Capita (US$)' 'RoW Health Expenditure (%)'\n",
      " 'Literacy Rate (%)' 'No Education (%)'\n",
      " 'Lower Secondary Completion Rate (%)' 'Education Expenditure (US$M)']\n"
     ]
    }
   ],
   "execution_count": 21
  },
  {
   "metadata": {
    "ExecuteTime": {
     "end_time": "2025-03-22T15:40:20.146052Z",
     "start_time": "2025-03-22T15:40:20.085916Z"
    }
   },
   "cell_type": "code",
   "source": [
    "# INDICATOR: Crime Rate\n",
    "\n",
    "crime = pd.read_csv(\"data/global_organised_crime_index_2023.csv\")\n",
    "# standardise country names\n",
    "crime['Country'] = my_cs.standardise_countries(crime['Country'], fuzzy_threshold=79)\n",
    "# select & rename columns\n",
    "crime = crime[['Country', 'Criminality']]\n",
    "indicator_cols = ['Crime Rate']\n",
    "crime.columns = ['Country'] + indicator_cols\n",
    "# merge\n",
    "soc_data = merge(soc_data, crime, indicator_cols)"
   ],
   "id": "903ee7d8728564f9",
   "outputs": [
    {
     "name": "stdout",
     "output_type": "stream",
     "text": [
      "Using special case for 'Turkey' -> 'Türkiye'\n",
      "Using special case for 'Korea, DPR' -> 'Korea, Democratic People's Republic of'\n",
      "Using fuzzy match for 'Congo, Rep.' -> 'Congo'\n",
      "Using fuzzy match for 'Russia' -> 'Russian Federation'\n",
      "Using fuzzy match for 'Korea, Rep.' -> 'Korea, Republic of'\n",
      "Using fuzzy match for 'Brunei' -> 'Brunei Darussalam'\n",
      "Using special case for 'Congo, Dem. Rep.' -> 'Congo, Democratic Republic of the'\n",
      "Using fuzzy match for 'St. Kitts and Nevis' -> 'Saint Kitts and Nevis'\n",
      "Using fuzzy match for 'Micronesia (Federated States of)' -> 'Micronesia, Federated States of'\n",
      "Using fuzzy match for 'St. Vincent and the Grenadines' -> 'Saint Vincent and the Grenadines'\n",
      "Using fuzzy match for 'St. Lucia' -> 'Saint Lucia'\n",
      "['Country' 'Population below Poverty Line (%)'\n",
      " 'Health Expenditure per Capita (US$)' 'RoW Health Expenditure (%)'\n",
      " 'Literacy Rate (%)' 'No Education (%)'\n",
      " 'Lower Secondary Completion Rate (%)' 'Education Expenditure (US$M)'\n",
      " 'Crime Rate']\n"
     ]
    }
   ],
   "execution_count": 22
  },
  {
   "metadata": {},
   "cell_type": "markdown",
   "source": "### Economic Instability & Infrastructure\n",
   "id": "ed53444150529313"
  },
  {
   "metadata": {
    "ExecuteTime": {
     "end_time": "2025-03-22T15:40:20.149381Z",
     "start_time": "2025-03-22T15:40:20.147292Z"
    }
   },
   "cell_type": "code",
   "source": "eco_data = pd.DataFrame(my_cs.all_countries(), columns=['Country'])",
   "id": "94df72e958a262e",
   "outputs": [],
   "execution_count": 23
  },
  {
   "metadata": {
    "ExecuteTime": {
     "end_time": "2025-03-22T15:40:20.212025Z",
     "start_time": "2025-03-22T15:40:20.150199Z"
    }
   },
   "cell_type": "code",
   "source": [
    "# Debt & Economic Resilience\n",
    "\n",
    "# INDICATORS:\n",
    "# General government debt as % of GDP\n",
    "# Total reserves (% of total external debt)\n",
    "\n",
    "debt = pd.read_csv(\"data/IMF_gov_debt.csv\")\n",
    "debt = debt.replace('no data', np.nan)\n",
    "# standardise country names\n",
    "debt.rename(columns={'General Government Debt (Percent of GDP)': 'Country'}, inplace=True)\n",
    "debt['Country'] = my_cs.standardise_countries(debt['Country'], fuzzy_threshold=80)\n",
    "debt = debt[debt['Country'] != my_cs.UNKNOWN_COUNTRY]\n",
    "# convert to numeric\n",
    "num_cols = debt.drop(columns=['Country']).apply(pd.to_numeric, errors='coerce')\n",
    "debt = pd.concat([debt['Country'], num_cols], axis=1)\n",
    "# select & rename columns\n",
    "debt_latest = debt[['Country', '2023']]\n",
    "indicator_cols = ['Government Debt (% of GDP)']\n",
    "debt_latest.columns = ['Country'] + indicator_cols\n",
    "# merge\n",
    "eco_data = merge(eco_data, debt_latest, indicator_cols)\n",
    "\n",
    "reserves = wb_dev2[['Country Name', '2021_Total reserves (% of total external debt)']]\n",
    "# rename columns\n",
    "indicator_cols = ['Total Reserves (% of External Debt)']\n",
    "reserves.columns = ['Country'] + indicator_cols\n",
    "# merge\n",
    "eco_data = merge(eco_data, reserves, indicator_cols)"
   ],
   "id": "c2bfd68ed708fbd9",
   "outputs": [
    {
     "name": "stdout",
     "output_type": "stream",
     "text": [
      "Using fuzzy match for 'China, People's Republic of' -> 'China'\n",
      "Using special case for 'Congo, Dem. Rep. of the' -> 'Congo, Democratic Republic of the'\n",
      "Country 'Kosovo' not found (best fuzzy match too low: Comoros (46))\n",
      "Using fuzzy match for 'Micronesia, Fed. States of' -> 'Micronesia, Federated States of'\n",
      "Using fuzzy match for 'North Macedonia ' -> 'North Macedonia'\n",
      "Using fuzzy match for 'Taiwan Province of China' -> 'Taiwan, Province of China'\n",
      "Using fuzzy match for 'Türkiye, Republic of' -> 'Türkiye'\n",
      "['Country' 'Government Debt (% of GDP)']\n",
      "['Country' 'Government Debt (% of GDP)'\n",
      " 'Total Reserves (% of External Debt)']\n"
     ]
    }
   ],
   "execution_count": 24
  },
  {
   "metadata": {
    "ExecuteTime": {
     "end_time": "2025-03-22T15:40:20.217355Z",
     "start_time": "2025-03-22T15:40:20.212990Z"
    }
   },
   "cell_type": "code",
   "source": [
    "# Income Inequality\n",
    "\n",
    "# INDICATORS:\n",
    "# Gini index\n",
    "# Income share held by highest 10%\n",
    "\n",
    "income = wb_dev1[['Country Name', '2021_Gini index', '2021_Income share held by highest 10%']]\n",
    "# rename columns\n",
    "indicator_cols = ['Gini Coefficient', 'Income Share Top 10%']\n",
    "income.columns = ['Country'] + indicator_cols\n",
    "# merge\n",
    "eco_data = merge(eco_data, income, indicator_cols)"
   ],
   "id": "dfbee81cdf25e050",
   "outputs": [
    {
     "name": "stdout",
     "output_type": "stream",
     "text": [
      "['Country' 'Government Debt (% of GDP)'\n",
      " 'Total Reserves (% of External Debt)' 'Gini Coefficient'\n",
      " 'Income Share Top 10%']\n"
     ]
    }
   ],
   "execution_count": 25
  },
  {
   "metadata": {
    "ExecuteTime": {
     "end_time": "2025-03-22T15:40:20.228860Z",
     "start_time": "2025-03-22T15:40:20.218005Z"
    }
   },
   "cell_type": "code",
   "source": [
    "# INDICATOR: Inflation, Consumer Prices\n",
    "\n",
    "inflation = wb_dev2[['Country Name', '2023_Inflation, consumer prices (annual %)']]\n",
    "# rename columns\n",
    "indicator_cols = ['Inflation (%)']\n",
    "inflation.columns = ['Country'] + indicator_cols\n",
    "# merge\n",
    "eco_data = merge(eco_data, inflation, indicator_cols)"
   ],
   "id": "c5eaa19003fbe528",
   "outputs": [
    {
     "name": "stdout",
     "output_type": "stream",
     "text": [
      "['Country' 'Government Debt (% of GDP)'\n",
      " 'Total Reserves (% of External Debt)' 'Gini Coefficient'\n",
      " 'Income Share Top 10%' 'Inflation (%)']\n"
     ]
    }
   ],
   "execution_count": 26
  },
  {
   "metadata": {
    "ExecuteTime": {
     "end_time": "2025-03-22T15:40:20.243162Z",
     "start_time": "2025-03-22T15:40:20.229709Z"
    }
   },
   "cell_type": "code",
   "source": [
    "# Unemployment\n",
    "\n",
    "# INDICATORS:\n",
    "# Unemployment, total (% of total labor force)\n",
    "# Unemployment, youth (% ages 15-24)\n",
    "\n",
    "unemployment = wb_dev2[['Country Name', '2023_Unemployment, total (% of total labor force) (modeled ILO estimate)', '2023_Unemployment, youth total (% of total labor force ages 15-24) (modeled ILO estimate)']]\n",
    "# rename columns\n",
    "indicator_cols = ['Unemployment (%)', 'Youth Unemployment (%)']\n",
    "unemployment.columns = ['Country'] + indicator_cols\n",
    "# merge\n",
    "eco_data = merge(eco_data, unemployment, indicator_cols)"
   ],
   "id": "39a6545ae31bc766",
   "outputs": [
    {
     "name": "stdout",
     "output_type": "stream",
     "text": [
      "['Country' 'Government Debt (% of GDP)'\n",
      " 'Total Reserves (% of External Debt)' 'Gini Coefficient'\n",
      " 'Income Share Top 10%' 'Inflation (%)' 'Unemployment (%)'\n",
      " 'Youth Unemployment (%)']\n"
     ]
    }
   ],
   "execution_count": 27
  },
  {
   "metadata": {
    "ExecuteTime": {
     "end_time": "2025-03-22T15:40:20.253091Z",
     "start_time": "2025-03-22T15:40:20.243744Z"
    }
   },
   "cell_type": "code",
   "source": [
    "# Energy Security & Infrastructure\n",
    "\n",
    "# INDICATORS:\n",
    "# Access to electricity (% of population)\n",
    "# Renewable energy consumption (% of total final energy consumption)\n",
    "\n",
    "energy = wb_dev2[['Country Name', '2022_Access to electricity (% of population)', '2021_Renewable energy consumption (% of total final energy consumption)']]\n",
    "# rename columns\n",
    "indicator_cols = ['Electricity Access (%)', 'Renewable Energy Consumption (%)']\n",
    "energy.columns = ['Country'] + indicator_cols\n",
    "# merge\n",
    "eco_data = merge(eco_data, energy, indicator_cols)"
   ],
   "id": "cd2ff34522d273a9",
   "outputs": [
    {
     "name": "stdout",
     "output_type": "stream",
     "text": [
      "['Country' 'Government Debt (% of GDP)'\n",
      " 'Total Reserves (% of External Debt)' 'Gini Coefficient'\n",
      " 'Income Share Top 10%' 'Inflation (%)' 'Unemployment (%)'\n",
      " 'Youth Unemployment (%)' 'Electricity Access (%)'\n",
      " 'Renewable Energy Consumption (%)']\n"
     ]
    }
   ],
   "execution_count": 28
  },
  {
   "metadata": {
    "ExecuteTime": {
     "end_time": "2025-03-22T15:40:20.262829Z",
     "start_time": "2025-03-22T15:40:20.253689Z"
    }
   },
   "cell_type": "code",
   "source": [
    "# Internet Access & Security\n",
    "\n",
    "# INDICATORS:\n",
    "# Individuals using the Internet (% of population)\n",
    "# Secure Internet servers (per 1 million people)\n",
    "\n",
    "internet = wb_dev2[['Country Name', '2022_Individuals using the Internet (% of population)', '2023_Secure Internet servers (per 1 million people)']]\n",
    "# rename columns\n",
    "indicator_cols = ['Internet Users (%)', 'Secure Internet Servers']\n",
    "internet.columns = ['Country'] + indicator_cols\n",
    "# merge\n",
    "eco_data = merge(eco_data, internet, indicator_cols)"
   ],
   "id": "c52458d497f1748f",
   "outputs": [
    {
     "name": "stdout",
     "output_type": "stream",
     "text": [
      "['Country' 'Government Debt (% of GDP)'\n",
      " 'Total Reserves (% of External Debt)' 'Gini Coefficient'\n",
      " 'Income Share Top 10%' 'Inflation (%)' 'Unemployment (%)'\n",
      " 'Youth Unemployment (%)' 'Electricity Access (%)'\n",
      " 'Renewable Energy Consumption (%)' 'Internet Users (%)'\n",
      " 'Secure Internet Servers']\n"
     ]
    }
   ],
   "execution_count": 29
  },
  {
   "metadata": {},
   "cell_type": "markdown",
   "source": "### Global & Regional Threats\n",
   "id": "128f99a36eb48d0e"
  },
  {
   "metadata": {
    "ExecuteTime": {
     "end_time": "2025-03-22T15:40:20.271423Z",
     "start_time": "2025-03-22T15:40:20.263747Z"
    }
   },
   "cell_type": "code",
   "source": "threat_data = pd.DataFrame(my_cs.all_countries(), columns=['Country'])",
   "id": "ec904da2f94eb3ac",
   "outputs": [],
   "execution_count": 30
  },
  {
   "metadata": {
    "ExecuteTime": {
     "end_time": "2025-03-22T15:40:20.306979Z",
     "start_time": "2025-03-22T15:40:20.272847Z"
    }
   },
   "cell_type": "code",
   "source": [
    "# Geopolitical Tensions\n",
    "\n",
    "# INDICATORS:\n",
    "# Projected Conflict Probability\n",
    "# Current Conflict Intensity\n",
    "\n",
    "conflict = pd.read_csv(\"data/Conflict_Risk_and_Intensity_2024.csv\")\n",
    "# standardise country names\n",
    "conflict['Country'] = my_cs.standardise_countries(conflict['Country'], fuzzy_threshold=80)\n",
    "# rename columns\n",
    "indicator_cols = ['Future Conflict Risk', 'Current Conflict Intensity']\n",
    "conflict.columns = ['Country'] + indicator_cols\n",
    "# merge\n",
    "threat_data = merge(threat_data, conflict, indicator_cols)"
   ],
   "id": "5f02879234a71c56",
   "outputs": [
    {
     "name": "stdout",
     "output_type": "stream",
     "text": [
      "Using special case for 'Congo DR' -> 'Congo, Democratic Republic of the'\n",
      "Using special case for 'Korea DPR' -> 'Korea, Democratic People's Republic of'\n",
      "Using fuzzy match for 'Korea Republic of' -> 'Korea, Republic of'\n",
      "Using fuzzy match for 'Lao PDR' -> 'Lao People's Democratic Republic'\n",
      "Using fuzzy match for 'Micronesia' -> 'Micronesia, Federated States of'\n",
      "Using fuzzy match for 'Moldova Republic of' -> 'Moldova, Republic of'\n",
      "Using fuzzy match for 'Palestine' -> 'Palestine, State of'\n",
      "['Country' 'Future Conflict Risk' 'Current Conflict Intensity']\n"
     ]
    }
   ],
   "execution_count": 31
  },
  {
   "metadata": {
    "ExecuteTime": {
     "end_time": "2025-03-22T15:40:20.311651Z",
     "start_time": "2025-03-22T15:40:20.307785Z"
    }
   },
   "cell_type": "code",
   "source": [
    "# Pandemic Preparedness\n",
    "\n",
    "# INDICATORS:\n",
    "# Expenditure on COVID-19 per Capita in US$\n",
    "\n",
    "disease = who_ghe[['Countries', '2021_Expenditure on COVID-19 per Capita in US$']]\n",
    "# rename columns\n",
    "indicator_cols = ['COVID-19 Expenditure per Capita (US$)']\n",
    "disease.columns = ['Country'] + indicator_cols\n",
    "# merge\n",
    "threat_data = merge(threat_data, disease, indicator_cols)"
   ],
   "id": "a8a6532ef836b6db",
   "outputs": [
    {
     "name": "stdout",
     "output_type": "stream",
     "text": [
      "['Country' 'Future Conflict Risk' 'Current Conflict Intensity'\n",
      " 'COVID-19 Expenditure per Capita (US$)']\n"
     ]
    }
   ],
   "execution_count": 32
  },
  {
   "metadata": {
    "ExecuteTime": {
     "end_time": "2025-03-22T15:40:20.354169Z",
     "start_time": "2025-03-22T15:40:20.312237Z"
    }
   },
   "cell_type": "code",
   "source": [
    "# Disease Burden\n",
    "\n",
    "# INDICATORS:\n",
    "# Prevalence of infectious diseases\n",
    "\n",
    "disease = pd.read_csv(\"data/IHME_GBD_infectious_diseases_export_2021.csv\")\n",
    "# standardise country names\n",
    "disease['Location'] = my_cs.standardise_countries(disease['Location'], fuzzy_threshold=79)\n",
    "# rename columns\n",
    "indicator_cols = ['Prevalence HIV/AIDS', 'Prevalence TB/Respiratory', 'Prevalence Malaria/Tropical', 'Prevalence Other Infectious']\n",
    "disease.columns = ['Country'] + indicator_cols\n",
    "# merge\n",
    "threat_data = merge(threat_data, disease, indicator_cols)"
   ],
   "id": "2b43d463eebb8fe7",
   "outputs": [
    {
     "name": "stdout",
     "output_type": "stream",
     "text": [
      "Using fuzzy match for 'Cape Verde' -> 'Cabo Verde'\n",
      "Using fuzzy match for 'Cote d'Ivoire' -> 'Côte d'Ivoire'\n",
      "Using special case for 'Democratic Republic of Congo' -> 'Congo, Democratic Republic of the'\n",
      "Using fuzzy match for 'Iran (Islamic Republic of)' -> 'Iran, Islamic Republic of'\n",
      "Using fuzzy match for 'Libyan Arab Jamahiriya' -> 'Libya'\n",
      "Using fuzzy match for 'Republic of Congo' -> 'Congo'\n",
      "Using fuzzy match for 'Republic of Korea' -> 'Korea, Republic of'\n",
      "Using special case for 'Turkey' -> 'Türkiye'\n",
      "['Country' 'Future Conflict Risk' 'Current Conflict Intensity'\n",
      " 'COVID-19 Expenditure per Capita (US$)' 'Prevalence HIV/AIDS'\n",
      " 'Prevalence TB/Respiratory' 'Prevalence Malaria/Tropical'\n",
      " 'Prevalence Other Infectious']\n"
     ]
    }
   ],
   "execution_count": 33
  },
  {
   "metadata": {
    "ExecuteTime": {
     "end_time": "2025-03-22T15:40:20.356548Z",
     "start_time": "2025-03-22T15:40:20.354964Z"
    }
   },
   "cell_type": "code",
   "source": [
    "# env_data\n",
    "# pol_data\n",
    "# soc_data\n",
    "# eco_data\n",
    "# threat_data"
   ],
   "id": "fa103b690f50ccb2",
   "outputs": [],
   "execution_count": 34
  },
  {
   "metadata": {
    "ExecuteTime": {
     "end_time": "2025-03-22T15:45:15.115420Z",
     "start_time": "2025-03-22T15:45:15.069220Z"
    }
   },
   "cell_type": "code",
   "source": [
    "# save preprocessed data\n",
    "all_data = (env_data\n",
    "            .merge(pol_data, on='Country', how='outer')\n",
    "            .merge(soc_data, on='Country', how='outer')\n",
    "            .merge(eco_data, on='Country', how='outer')\n",
    "            .merge(threat_data, on='Country', how='outer'))\n",
    "\n",
    "all_data.to_csv('data/processing/preprocessed_all_data.csv', index=False)\n",
    "env_data.to_csv('data/processing/preprocessed_env_data.csv', index=False)\n",
    "pol_data.to_csv('data/processing/preprocessed_pol_data.csv', index=False)\n",
    "soc_data.to_csv('data/processing/preprocessed_soc_data.csv', index=False)\n",
    "eco_data.to_csv('data/processing/preprocessed_eco_data.csv', index=False)\n",
    "threat_data.to_csv('data/processing/preprocessed_threat_data.csv', index=False)\n",
    "\n",
    "# store the category->indicator mappings\n",
    "category_columns = {\n",
    "    'env': env_data.drop(columns=['Country']).columns.tolist(),\n",
    "    'pol': pol_data.drop(columns=['Country']).columns.tolist(),\n",
    "    'soc': soc_data.drop(columns=['Country']).columns.tolist(),\n",
    "    'eco': eco_data.drop(columns=['Country']).columns.tolist(),\n",
    "    'threat': threat_data.drop(columns=['Country']).columns.tolist()\n",
    "}\n",
    "# save to JSON file\n",
    "with open('data/processing/category_indicator_map.json', 'w') as json_file:\n",
    "    json.dump(category_columns, json_file, indent=4)\n",
    "\n",
    "# save intermediate data\n",
    "wb_dev1.to_csv('data/processing/preprocessed_wb_dev1.csv', index=False)\n",
    "wb_dev2.to_csv('data/processing/preprocessed_wb_dev2.csv', index=False)\n",
    "wb_gov.to_csv('data/processing/preprocessed_wb_gov.csv', index=False)\n",
    "who_ghe.to_csv('data/processing/preprocessed_who_ghe.csv', index=False)\n",
    "wb_edu.to_csv('data/processing/preprocessed_wb_edu.csv', index=False)"
   ],
   "id": "6c3f1a86465448b6",
   "outputs": [],
   "execution_count": 42
  }
 ],
 "metadata": {
  "kernelspec": {
   "display_name": "Python 3",
   "language": "python",
   "name": "python3"
  },
  "language_info": {
   "codemirror_mode": {
    "name": "ipython",
    "version": 2
   },
   "file_extension": ".py",
   "mimetype": "text/x-python",
   "name": "python",
   "nbconvert_exporter": "python",
   "pygments_lexer": "ipython2",
   "version": "2.7.6"
  }
 },
 "nbformat": 4,
 "nbformat_minor": 5
}
